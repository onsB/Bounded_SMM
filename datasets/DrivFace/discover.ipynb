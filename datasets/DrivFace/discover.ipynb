{
 "cells": [
  {
   "cell_type": "code",
   "execution_count": 1,
   "metadata": {},
   "outputs": [],
   "source": [
    "import pandas as pd\n",
    "import numpy as np"
   ]
  },
  {
   "cell_type": "code",
   "execution_count": 5,
   "metadata": {},
   "outputs": [],
   "source": [
    "df = pd.read_csv('drivPoints.txt', delimiter = \",\")"
   ]
  },
  {
   "cell_type": "code",
   "execution_count": 6,
   "metadata": {},
   "outputs": [
    {
     "data": {
      "text/html": [
       "<div>\n",
       "<style scoped>\n",
       "    .dataframe tbody tr th:only-of-type {\n",
       "        vertical-align: middle;\n",
       "    }\n",
       "\n",
       "    .dataframe tbody tr th {\n",
       "        vertical-align: top;\n",
       "    }\n",
       "\n",
       "    .dataframe thead th {\n",
       "        text-align: right;\n",
       "    }\n",
       "</style>\n",
       "<table border=\"1\" class=\"dataframe\">\n",
       "  <thead>\n",
       "    <tr style=\"text-align: right;\">\n",
       "      <th></th>\n",
       "      <th>fileName</th>\n",
       "      <th>subject</th>\n",
       "      <th>imgNum</th>\n",
       "      <th>label</th>\n",
       "      <th>ang</th>\n",
       "      <th>xF</th>\n",
       "      <th>yF</th>\n",
       "      <th>wF</th>\n",
       "      <th>hF</th>\n",
       "      <th>xRE</th>\n",
       "      <th>yRE</th>\n",
       "      <th>xLE</th>\n",
       "      <th>yLE</th>\n",
       "      <th>xN</th>\n",
       "      <th>yN</th>\n",
       "      <th>xRM</th>\n",
       "      <th>yRM</th>\n",
       "      <th>xLM</th>\n",
       "      <th>yLM</th>\n",
       "    </tr>\n",
       "  </thead>\n",
       "  <tbody>\n",
       "    <tr>\n",
       "      <th>0</th>\n",
       "      <td>20130529_01_Driv_001_f</td>\n",
       "      <td>1</td>\n",
       "      <td>1</td>\n",
       "      <td>2</td>\n",
       "      <td>0</td>\n",
       "      <td>292</td>\n",
       "      <td>209</td>\n",
       "      <td>100</td>\n",
       "      <td>112</td>\n",
       "      <td>323</td>\n",
       "      <td>232</td>\n",
       "      <td>367</td>\n",
       "      <td>231</td>\n",
       "      <td>353</td>\n",
       "      <td>254</td>\n",
       "      <td>332</td>\n",
       "      <td>278</td>\n",
       "      <td>361</td>\n",
       "      <td>278</td>\n",
       "    </tr>\n",
       "    <tr>\n",
       "      <th>1</th>\n",
       "      <td>20130529_01_Driv_002_f</td>\n",
       "      <td>1</td>\n",
       "      <td>2</td>\n",
       "      <td>2</td>\n",
       "      <td>0</td>\n",
       "      <td>286</td>\n",
       "      <td>200</td>\n",
       "      <td>109</td>\n",
       "      <td>128</td>\n",
       "      <td>324</td>\n",
       "      <td>235</td>\n",
       "      <td>366</td>\n",
       "      <td>235</td>\n",
       "      <td>353</td>\n",
       "      <td>258</td>\n",
       "      <td>333</td>\n",
       "      <td>281</td>\n",
       "      <td>361</td>\n",
       "      <td>281</td>\n",
       "    </tr>\n",
       "    <tr>\n",
       "      <th>2</th>\n",
       "      <td>20130529_01_Driv_003_f</td>\n",
       "      <td>1</td>\n",
       "      <td>3</td>\n",
       "      <td>2</td>\n",
       "      <td>0</td>\n",
       "      <td>290</td>\n",
       "      <td>204</td>\n",
       "      <td>105</td>\n",
       "      <td>121</td>\n",
       "      <td>325</td>\n",
       "      <td>240</td>\n",
       "      <td>367</td>\n",
       "      <td>239</td>\n",
       "      <td>351</td>\n",
       "      <td>260</td>\n",
       "      <td>334</td>\n",
       "      <td>282</td>\n",
       "      <td>362</td>\n",
       "      <td>282</td>\n",
       "    </tr>\n",
       "    <tr>\n",
       "      <th>3</th>\n",
       "      <td>20130529_01_Driv_004_f</td>\n",
       "      <td>1</td>\n",
       "      <td>4</td>\n",
       "      <td>2</td>\n",
       "      <td>0</td>\n",
       "      <td>287</td>\n",
       "      <td>202</td>\n",
       "      <td>112</td>\n",
       "      <td>118</td>\n",
       "      <td>325</td>\n",
       "      <td>230</td>\n",
       "      <td>369</td>\n",
       "      <td>230</td>\n",
       "      <td>353</td>\n",
       "      <td>253</td>\n",
       "      <td>335</td>\n",
       "      <td>274</td>\n",
       "      <td>362</td>\n",
       "      <td>275</td>\n",
       "    </tr>\n",
       "    <tr>\n",
       "      <th>4</th>\n",
       "      <td>20130529_01_Driv_005_f</td>\n",
       "      <td>1</td>\n",
       "      <td>5</td>\n",
       "      <td>2</td>\n",
       "      <td>0</td>\n",
       "      <td>290</td>\n",
       "      <td>193</td>\n",
       "      <td>104</td>\n",
       "      <td>119</td>\n",
       "      <td>325</td>\n",
       "      <td>224</td>\n",
       "      <td>366</td>\n",
       "      <td>225</td>\n",
       "      <td>353</td>\n",
       "      <td>244</td>\n",
       "      <td>333</td>\n",
       "      <td>268</td>\n",
       "      <td>363</td>\n",
       "      <td>268</td>\n",
       "    </tr>\n",
       "  </tbody>\n",
       "</table>\n",
       "</div>"
      ],
      "text/plain": [
       "                  fileName  subject  imgNum  label  ang   xF   yF   wF   hF  \\\n",
       "0  20130529_01_Driv_001_f         1       1      2    0  292  209  100  112   \n",
       "1  20130529_01_Driv_002_f         1       2      2    0  286  200  109  128   \n",
       "2  20130529_01_Driv_003_f         1       3      2    0  290  204  105  121   \n",
       "3  20130529_01_Driv_004_f         1       4      2    0  287  202  112  118   \n",
       "4  20130529_01_Driv_005_f         1       5      2    0  290  193  104  119   \n",
       "\n",
       "   xRE  yRE  xLE  yLE   xN   yN  xRM  yRM  xLM  yLM  \n",
       "0  323  232  367  231  353  254  332  278  361  278  \n",
       "1  324  235  366  235  353  258  333  281  361  281  \n",
       "2  325  240  367  239  351  260  334  282  362  282  \n",
       "3  325  230  369  230  353  253  335  274  362  275  \n",
       "4  325  224  366  225  353  244  333  268  363  268  "
      ]
     },
     "execution_count": 6,
     "metadata": {},
     "output_type": "execute_result"
    }
   ],
   "source": [
    "df.head()"
   ]
  },
  {
   "cell_type": "code",
   "execution_count": 7,
   "metadata": {},
   "outputs": [
    {
     "data": {
      "text/plain": [
       "(606, 19)"
      ]
     },
     "execution_count": 7,
     "metadata": {},
     "output_type": "execute_result"
    }
   ],
   "source": [
    "df.shape"
   ]
  },
  {
   "cell_type": "code",
   "execution_count": 8,
   "metadata": {},
   "outputs": [
    {
     "data": {
      "text/plain": [
       "(606, 19)"
      ]
     },
     "execution_count": 8,
     "metadata": {},
     "output_type": "execute_result"
    }
   ],
   "source": [
    "df_ = df.dropna()\n",
    "df_.shape"
   ]
  },
  {
   "cell_type": "code",
   "execution_count": null,
   "metadata": {},
   "outputs": [],
   "source": []
  }
 ],
 "metadata": {
  "kernelspec": {
   "display_name": "Python 3",
   "language": "python",
   "name": "python3"
  },
  "language_info": {
   "codemirror_mode": {
    "name": "ipython",
    "version": 3
   },
   "file_extension": ".py",
   "mimetype": "text/x-python",
   "name": "python",
   "nbconvert_exporter": "python",
   "pygments_lexer": "ipython3",
   "version": "3.8.3"
  }
 },
 "nbformat": 4,
 "nbformat_minor": 4
}
